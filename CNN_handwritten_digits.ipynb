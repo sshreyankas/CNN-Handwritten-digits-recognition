{
  "nbformat": 4,
  "nbformat_minor": 0,
  "metadata": {
    "colab": {
      "name": "CNN handwritten digits",
      "provenance": [],
      "collapsed_sections": []
    },
    "kernelspec": {
      "name": "python3",
      "display_name": "Python 3"
    }
  },
  "cells": [
    {
      "cell_type": "code",
      "metadata": {
        "id": "dPOETfAmFkt3",
        "colab_type": "code",
        "colab": {}
      },
      "source": [
        "from keras.datasets import mnist"
      ],
      "execution_count": 0,
      "outputs": []
    },
    {
      "cell_type": "code",
      "metadata": {
        "id": "Gb25tH0FF5ZW",
        "colab_type": "code",
        "colab": {
          "base_uri": "https://localhost:8080/",
          "height": 51
        },
        "outputId": "98ee7e4d-5cd5-4052-ccc9-4123d660418f"
      },
      "source": [
        "(trainX, trainY), (testX, testY) = mnist.load_data()"
      ],
      "execution_count": 2,
      "outputs": [
        {
          "output_type": "stream",
          "text": [
            "Downloading data from https://s3.amazonaws.com/img-datasets/mnist.npz\n",
            "11493376/11490434 [==============================] - 0s 0us/step\n"
          ],
          "name": "stdout"
        }
      ]
    },
    {
      "cell_type": "code",
      "metadata": {
        "id": "B4msKXRuGBxm",
        "colab_type": "code",
        "colab": {
          "base_uri": "https://localhost:8080/",
          "height": 51
        },
        "outputId": "50ffbb94-0c57-4b05-9d10-ffc2e76b63e2"
      },
      "source": [
        "print('The train X size {}'.format(trainX.shape),' \\ntrain Y size {}'.format(trainY.shape))"
      ],
      "execution_count": 3,
      "outputs": [
        {
          "output_type": "stream",
          "text": [
            "The train X size (60000, 28, 28)  \n",
            "train Y size (60000,)\n"
          ],
          "name": "stdout"
        }
      ]
    },
    {
      "cell_type": "code",
      "metadata": {
        "id": "5Z9kx4LGGdq8",
        "colab_type": "code",
        "colab": {
          "base_uri": "https://localhost:8080/",
          "height": 51
        },
        "outputId": "b78bd5e5-1e46-4210-c19b-8ccec095ec5f"
      },
      "source": [
        "print('The test X size {}'.format(testX.shape),' \\ntest Y size {}'.format(testY.shape))"
      ],
      "execution_count": 4,
      "outputs": [
        {
          "output_type": "stream",
          "text": [
            "The test X size (10000, 28, 28)  \n",
            "test Y size (10000,)\n"
          ],
          "name": "stdout"
        }
      ]
    },
    {
      "cell_type": "code",
      "metadata": {
        "id": "onjaz7rxGkaY",
        "colab_type": "code",
        "colab": {}
      },
      "source": [
        "trainX = trainX.reshape(len(trainX), 28,28,1)  # here last 1 means we used grayscale\n",
        "testX = testX.reshape(len(testX), 28,28,1)"
      ],
      "execution_count": 0,
      "outputs": []
    },
    {
      "cell_type": "code",
      "metadata": {
        "id": "jTaDeYVeG2Fm",
        "colab_type": "code",
        "colab": {}
      },
      "source": [
        "import numpy as np\n",
        "from matplotlib import pyplot as plt\n",
        "%matplotlib inline"
      ],
      "execution_count": 0,
      "outputs": []
    },
    {
      "cell_type": "code",
      "metadata": {
        "id": "t9ke_47uHxS1",
        "colab_type": "code",
        "colab": {
          "base_uri": "https://localhost:8080/",
          "height": 51
        },
        "outputId": "052c981f-de7f-4f67-cf42-3042cdb7b3c9"
      },
      "source": [
        "labels = np.unique(trainY)\n",
        "\n",
        "print('The output labels are ',labels)\n",
        "print('Number of labels ',len(labels))"
      ],
      "execution_count": 10,
      "outputs": [
        {
          "output_type": "stream",
          "text": [
            "The output labels are  [0 1 2 3 4 5 6 7 8 9]\n",
            "Number of labels  10\n"
          ],
          "name": "stdout"
        }
      ]
    },
    {
      "cell_type": "code",
      "metadata": {
        "id": "6fpkwwtkIC2R",
        "colab_type": "code",
        "colab": {}
      },
      "source": [
        "from keras.models import Sequential\n",
        "model = Sequential()"
      ],
      "execution_count": 0,
      "outputs": []
    },
    {
      "cell_type": "code",
      "metadata": {
        "id": "9PTAgfaII6y5",
        "colab_type": "code",
        "colab": {}
      },
      "source": [
        "from keras.layers import Flatten, Dense\n",
        "from keras.layers.convolutional import Conv2D\n",
        "from keras.layers import MaxPooling2D"
      ],
      "execution_count": 0,
      "outputs": []
    },
    {
      "cell_type": "code",
      "metadata": {
        "id": "czW0sf0RJGR1",
        "colab_type": "code",
        "colab": {}
      },
      "source": [
        "layer1 = Conv2D(6, kernel_size=(3,3), activation='relu', input_shape=(28,28,1))\n",
        "model.add(layer1)\n",
        "\n",
        "layer2 = MaxPooling2D()\n",
        "model.add(layer2)"
      ],
      "execution_count": 0,
      "outputs": []
    },
    {
      "cell_type": "code",
      "metadata": {
        "id": "TyNZBPuQJ0hU",
        "colab_type": "code",
        "colab": {}
      },
      "source": [
        "layer3 = Conv2D(16, kernel_size=(3,3), activation='relu')\n",
        "model.add(layer3)\n",
        "\n",
        "layer4 = MaxPooling2D()\n",
        "model.add(layer4)"
      ],
      "execution_count": 0,
      "outputs": []
    },
    {
      "cell_type": "code",
      "metadata": {
        "id": "Hl6Y0g37KFex",
        "colab_type": "code",
        "colab": {}
      },
      "source": [
        "layer5 = Flatten()\n",
        "model.add(layer5)"
      ],
      "execution_count": 0,
      "outputs": []
    },
    {
      "cell_type": "code",
      "metadata": {
        "id": "vsRCqKkYKOqs",
        "colab_type": "code",
        "colab": {}
      },
      "source": [
        "layer6 = Dense(120, activation='relu')\n",
        "model.add(layer6)"
      ],
      "execution_count": 0,
      "outputs": []
    },
    {
      "cell_type": "code",
      "metadata": {
        "id": "XedigqVpKZaB",
        "colab_type": "code",
        "colab": {}
      },
      "source": [
        "layer7 = Dense(84, activation='relu')\n",
        "model.add(layer7)"
      ],
      "execution_count": 0,
      "outputs": []
    },
    {
      "cell_type": "code",
      "metadata": {
        "id": "vdcz29wZKeGk",
        "colab_type": "code",
        "colab": {}
      },
      "source": [
        "layer8 = Dense(10, activation='softmax')\n",
        "model.add(layer8)"
      ],
      "execution_count": 0,
      "outputs": []
    },
    {
      "cell_type": "code",
      "metadata": {
        "id": "N-aPFfbtKjRo",
        "colab_type": "code",
        "colab": {}
      },
      "source": [
        "model.compile(optimizer='adam', loss='categorical_crossentropy', metrics=['accuracy'])"
      ],
      "execution_count": 0,
      "outputs": []
    },
    {
      "cell_type": "code",
      "metadata": {
        "id": "n3-uUbj-Lkjo",
        "colab_type": "code",
        "colab": {}
      },
      "source": [
        "from keras.utils import to_categorical"
      ],
      "execution_count": 0,
      "outputs": []
    },
    {
      "cell_type": "code",
      "metadata": {
        "id": "FBUSQTGgLoNQ",
        "colab_type": "code",
        "colab": {}
      },
      "source": [
        "trainY = to_categorical(trainY)\n",
        "testY = to_categorical(testY)"
      ],
      "execution_count": 0,
      "outputs": []
    },
    {
      "cell_type": "code",
      "metadata": {
        "id": "GVjhS72aK4t8",
        "colab_type": "code",
        "colab": {
          "base_uri": "https://localhost:8080/",
          "height": 153
        },
        "outputId": "59d2d537-c1ac-45d4-d50b-861b1a1c1bae"
      },
      "source": [
        "model.fit(trainX, trainY, validation_data=(testX, testY), epochs=3)"
      ],
      "execution_count": 25,
      "outputs": [
        {
          "output_type": "stream",
          "text": [
            "Train on 60000 samples, validate on 10000 samples\n",
            "Epoch 1/3\n",
            "60000/60000 [==============================] - 27s 449us/step - loss: 0.3332 - accuracy: 0.9258 - val_loss: 0.1200 - val_accuracy: 0.9634\n",
            "Epoch 2/3\n",
            "60000/60000 [==============================] - 27s 443us/step - loss: 0.0845 - accuracy: 0.9732 - val_loss: 0.0704 - val_accuracy: 0.9782\n",
            "Epoch 3/3\n",
            "60000/60000 [==============================] - 26s 441us/step - loss: 0.0667 - accuracy: 0.9793 - val_loss: 0.0796 - val_accuracy: 0.9780\n"
          ],
          "name": "stdout"
        },
        {
          "output_type": "execute_result",
          "data": {
            "text/plain": [
              "<keras.callbacks.callbacks.History at 0x7fae00781240>"
            ]
          },
          "metadata": {
            "tags": []
          },
          "execution_count": 25
        }
      ]
    },
    {
      "cell_type": "code",
      "metadata": {
        "id": "D_85rSXpLEa-",
        "colab_type": "code",
        "colab": {
          "base_uri": "https://localhost:8080/",
          "height": 316
        },
        "outputId": "b0c89179-dbfe-4f1b-ed36-f5fcf1cba4ba"
      },
      "source": [
        "pred = model.predict(trainX[5].reshape(1,28,28,1))\n",
        "print(pred)\n",
        "\n",
        "plt.imshow(trainX[5].reshape(28,28))\n",
        "plt.show()\n",
        "print('Final output ',np.argmax(pred))"
      ],
      "execution_count": 26,
      "outputs": [
        {
          "output_type": "stream",
          "text": [
            "[[3.0222735e-09 1.0486628e-07 9.9999964e-01 5.1146262e-08 4.0567008e-10\n",
            "  1.3772971e-12 4.4557131e-13 1.4779252e-07 1.6956596e-08 5.2197074e-10]]\n"
          ],
          "name": "stdout"
        },
        {
          "output_type": "display_data",
          "data": {
            "image/png": "[encoded data removed]",
            "text/plain": [
              "<Figure size 432x288 with 1 Axes>"
            ]
          },
          "metadata": {
            "tags": [],
            "needs_background": "light"
          }
        },
        {
          "output_type": "stream",
          "text": [
            "Final output  2\n"
          ],
          "name": "stdout"
        }
      ]
    },
    {
      "cell_type": "code",
      "metadata": {
        "id": "_vDEAK9VM2go",
        "colab_type": "code",
        "colab": {
          "base_uri": "https://localhost:8080/",
          "height": 316
        },
        "outputId": "ec2b7062-8649-40c6-9393-c7ac865d9c96"
      },
      "source": [
        "pred = model.predict(trainX[5].reshape(1,28,28,1))\n",
        "print(pred)\n",
        "\n",
        "plt.imshow(trainX[5].reshape(28,28), cmap='gray')\n",
        "plt.show()\n",
        "print('Final output ',np.argmax(pred))"
      ],
      "execution_count": 28,
      "outputs": [
        {
          "output_type": "stream",
          "text": [
            "[[3.0222735e-09 1.0486628e-07 9.9999964e-01 5.1146262e-08 4.0567008e-10\n",
            "  1.3772971e-12 4.4557131e-13 1.4779252e-07 1.6956596e-08 5.2197074e-10]]\n"
          ],
          "name": "stdout"
        },
        {
          "output_type": "display_data",
          "data": {
            "image/png": "[encoded data removed]",
            "text/plain": [
              "<Figure size 432x288 with 1 Axes>"
            ]
          },
          "metadata": {
            "tags": [],
            "needs_background": "light"
          }
        },
        {
          "output_type": "stream",
          "text": [
            "Final output  2\n"
          ],
          "name": "stdout"
        }
      ]
    }
  ]
}